{
 "metadata": {
  "name": "",
  "signature": "sha256:8f5973e2eb639f17ba11cd759be7fef662b698d0cf83c3b9e4cf9267bcd01db5"
 },
 "nbformat": 3,
 "nbformat_minor": 0,
 "worksheets": [
  {
   "cells": [
    {
     "cell_type": "code",
     "collapsed": false,
     "input": [
      "# %%writefile OrderingCalcs.py\n",
      "\"\"\"\n",
      "OrderingCalcs\n",
      "=============\n",
      "This script reads in the 'kegs.json' file and performs various\n",
      "claculations to generate a keg purchasing selection which\n",
      "is written to the file 'suggestions'\n",
      "\"\"\"\n",
      "\n",
      "import json\n",
      "from datetime import datetime\n",
      "import numpy\n",
      "\n",
      "with open('kegs.json') as data_file:\n",
      "    dict = json.load(data_file)\n",
      "\n",
      "stats = {}\n",
      "\n",
      "#Drive through list collecting stats\n",
      "for keg in dict['objects']:\n",
      "\n",
      "    # filter out certain kegs (look for 'exempt' in description)\n",
      "    description = keg['beverage'].get('description','')\n",
      "    if description.lower().find('dynexempt')>=0:\n",
      "        break\n",
      "    \n",
      "    name = \"%s %s\" % (keg['beverage']['producer']['name'], keg['beverage']['name'])\n",
      "  \n",
      "    volume = keg['full_volume_ml']\n",
      "    date_format = '%Y-%m-%dT%H:%M:%S+00:00'\n",
      "    start_time = datetime.strptime(keg['start_time'],date_format)\n",
      "    end_time = datetime.strptime(keg['end_time'],date_format)\n",
      "    delta = end_time - start_time\n",
      "    seconds = delta.total_seconds()\n",
      " \n",
      "    if seconds > 0: #sainity check\n",
      "        rate_ml_s = int(volume) / seconds\n",
      "        rate_l_day = rate_ml_s * 86.4\n",
      "        rate_l_week = rate_l_day * 7\n",
      " \n",
      "        if 1 < rate_l_week < 10000: #sanity check\n",
      "            \n",
      "            if name not in stats:\n",
      "                stats[name] = {}\n",
      "                stats[name]['rate'] = []\n",
      "                stats[name]['date'] = start_time\n",
      "\n",
      "            stats[name]['rate'].append(rate_l_week)\n",
      "            if stats[name]['date'] < start_time:\n",
      "                stats[name]['date'] = start_time\n",
      "\n",
      "#Average the rates\n",
      "for name, stat in stats.iteritems():\n",
      "    stat['rate'] = numpy.mean(stat['rate'])\n",
      "    #print name, numpy.mean(stat['rate'])\n",
      "\n",
      "f = open('suggestions', 'w')\n",
      "s = \"Subject: Beer Suggestions for {}\\n\".format(datetime.today() )\n",
      "f.write(s)\n",
      "\n",
      "#Display in order\n",
      "for w in sorted(stats, key=lambda rate:stats[rate]['rate'], reverse=True):\n",
      "    s = \"{:3.0f} liters/wk {:3d} days ago, {}\\n\".format(\n",
      "        stats[w]['rate'], (datetime.today() -stats[w]['date']).days, w)\n",
      "    f.write(s)\n",
      "    print s,\n",
      "    \n",
      "f.close()"
     ],
     "language": "python",
     "metadata": {},
     "outputs": [
      {
       "output_type": "stream",
       "stream": "stdout",
       "text": [
        "614 liters/wk  35 days ago, Redhook ESB\n",
        "202 liters/wk  56 days ago, Dogfish Head Burton Baton\n",
        "164 liters/wk 213 days ago, Samuel Adams Summer Ale\n",
        "145 liters/wk 379 days ago, Dogfish Head 60min IPA\n",
        "139 liters/wk 100 days ago, Henniker Brewing Working Man's Porter\n",
        "137 liters/wk 239 days ago, Sam Adams Boston Lager\n",
        "129 liters/wk  36 days ago, Shipyard Monkey Fist IPA\n",
        " 95 liters/wk 357 days ago, Brooklyn Brewery Brooklyn Lager\n",
        " 80 liters/wk  76 days ago, Dogfish Head 90min IPA\n",
        " 68 liters/wk  15 days ago, Baxter Brewing Co. Stowaway IPA\n",
        " 61 liters/wk  94 days ago, Harpoon IPA\n",
        " 60 liters/wk 342 days ago, Moat Mountain Brewery Hell Yes!\n",
        " 59 liters/wk 335 days ago, Lagunitas Pils\n",
        " 58 liters/wk 202 days ago, Uinta Brewing Co. Hop Nosh IPA\n",
        " 57 liters/wk 128 days ago, Founders Breakfast Stout\n",
        " 57 liters/wk 112 days ago, Founders All Day IPA\n",
        " 53 liters/wk 141 days ago, Long Trail Long Trail Ale\n",
        " 53 liters/wk  50 days ago, Stone IPA\n",
        " 46 liters/wk   9 days ago, Woodstock Inn Brewery Frosty Goggles\n",
        " 45 liters/wk 377 days ago, Smuttynose IPA \n",
        " 44 liters/wk  34 days ago, Sam Adams Rebel IPA\n",
        " 41 liters/wk  55 days ago, Magic Hat No. 9\n",
        " 41 liters/wk 157 days ago, Smutty Nose Pumpkin Ale\n",
        " 40 liters/wk 293 days ago, Blue Moon Belgian White\n",
        " 40 liters/wk 120 days ago, Able Ebenezer Burn the Ships\n",
        " 40 liters/wk  90 days ago, Switchback Switchback Ale\n",
        " 37 liters/wk 174 days ago, Red Hook Game Changer\n",
        " 34 liters/wk 225 days ago, Smuttynose Finestkind IPA \n",
        " 33 liters/wk 232 days ago, Sea Dog Sunfish\n",
        " 32 liters/wk 328 days ago, Woodstock Inn Brewery Old Man Oatmeal Stout\n",
        " 30 liters/wk 105 days ago, Tuckerman Brewing Pale Ale\n",
        " 30 liters/wk 188 days ago, Harpoon UFO\n",
        " 29 liters/wk 188 days ago,  Smuttynose   Finestkind IPA\n",
        " 29 liters/wk 384 days ago, Negra Modelo Negra Modelo\n",
        " 28 liters/wk 147 days ago, Sierra Nevada Pale Ale\n",
        " 27 liters/wk 384 days ago, Throwback Brewery Hopstruck\n",
        " 20 liters/wk 174 days ago, Milly's Raspberry Zeus's Belgian Wit\n",
        " 20 liters/wk 363 days ago, Smuttynost Robust Porter\n",
        " 18 liters/wk  34 days ago, Anheuser-Busch Bud Light\n",
        " 17 liters/wk  56 days ago, Stark Mill (Milly's) ManchVegas IPA\n",
        " 15 liters/wk  43 days ago, Milly's Tavern Grumpy Pumpkin Fest\n",
        " 15 liters/wk  84 days ago, Stark Mill Hopzilla\n",
        " 15 liters/wk  41 days ago, Great North Aleworks Robust Vanilla Porter\n",
        " 11 liters/wk 225 days ago, Stark Mill (Milly's) John Stark Porter\n",
        " 10 liters/wk  76 days ago, Moat Mountain Smoke House Porter\n",
        "  9 liters/wk  71 days ago, Allagash Black\n",
        "  6 liters/wk 183 days ago, Barismo Cambridge Coldbrew\n"
       ]
      }
     ],
     "prompt_number": 87
    },
    {
     "cell_type": "code",
     "collapsed": false,
     "input": [
      "len(stats)"
     ],
     "language": "python",
     "metadata": {},
     "outputs": [
      {
       "metadata": {},
       "output_type": "pyout",
       "prompt_number": 78,
       "text": [
        "47"
       ]
      }
     ],
     "prompt_number": 78
    },
    {
     "cell_type": "code",
     "collapsed": false,
     "input": [
      "if s.find('test')>0:\n",
      "    print \"f\""
     ],
     "language": "python",
     "metadata": {},
     "outputs": [
      {
       "output_type": "stream",
       "stream": "stdout",
       "text": [
        "f\n"
       ]
      }
     ],
     "prompt_number": 52
    },
    {
     "cell_type": "raw",
     "metadata": {},
     "source": [
      "print __str__\n"
     ]
    },
    {
     "cell_type": "code",
     "collapsed": false,
     "input": [
      "print __dir__(s)"
     ],
     "language": "python",
     "metadata": {},
     "outputs": [
      {
       "ename": "NameError",
       "evalue": "name '__dir__' is not defined",
       "output_type": "pyerr",
       "traceback": [
        "\u001b[0;31m---------------------------------------------------------------------------\u001b[0m\n\u001b[0;31mNameError\u001b[0m                                 Traceback (most recent call last)",
        "\u001b[0;32m<ipython-input-46-82eb622ed5e3>\u001b[0m in \u001b[0;36m<module>\u001b[0;34m()\u001b[0m\n\u001b[0;32m----> 1\u001b[0;31m \u001b[0;32mprint\u001b[0m \u001b[0m__dir__\u001b[0m\u001b[0;34m(\u001b[0m\u001b[0ms\u001b[0m\u001b[0;34m)\u001b[0m\u001b[0;34m\u001b[0m\u001b[0m\n\u001b[0m",
        "\u001b[0;31mNameError\u001b[0m: name '__dir__' is not defined"
       ]
      }
     ],
     "prompt_number": 46
    },
    {
     "cell_type": "code",
     "collapsed": false,
     "input": [
      "s = 'exempt'\n",
      "s.find('exempt')"
     ],
     "language": "python",
     "metadata": {},
     "outputs": [
      {
       "metadata": {},
       "output_type": "pyout",
       "prompt_number": 68,
       "text": [
        "0"
       ]
      }
     ],
     "prompt_number": 68
    },
    {
     "cell_type": "code",
     "collapsed": false,
     "input": [],
     "language": "python",
     "metadata": {},
     "outputs": []
    }
   ],
   "metadata": {}
  }
 ]
}