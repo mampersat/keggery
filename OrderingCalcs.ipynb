{
 "metadata": {
  "name": "",
  "signature": "sha256:bc19c178d6fa9f8d5389e1fe4d9821f9b626a43a0a8b74db70232df47fa701d0"
 },
 "nbformat": 3,
 "nbformat_minor": 0,
 "worksheets": [
  {
   "cells": [
    {
     "cell_type": "code",
     "collapsed": false,
     "input": [
      "%%writefile OrderingCalcs.py\n",
      "\"\"\"\n",
      "OrderingCalcs\n",
      "=============\n",
      "This script reads in the 'kegs.json' file and performs various\n",
      "claculations to generate a keg purchasing selection which\n",
      "is written to the file 'suggestions'\n",
      "\"\"\"\n",
      "\n",
      "import json\n",
      "from datetime import datetime\n",
      "import numpy\n",
      "\n",
      "#List of keg_id's that we don't want to report on\n",
      "#Typically becuase they are not from an easy to acquire vendor\n",
      "exempt=[41, #northcountry hard cider\n",
      "        7, 6, #throwback\n",
      "        ]\n",
      "\n",
      "with open('kegs.json') as data_file:\n",
      "    dict = json.load(data_file)\n",
      "\n",
      "stats = {}\n",
      "\n",
      "#Drive through list collecting stats\n",
      "for keg in dict['objects']:\n",
      "\n",
      "    # filter out certain kegs\n",
      "    if keg['beverage']['id'] in exempt:\n",
      "        break\n",
      "        \n",
      "    name = \"%s %s id=%s\" % (keg['beverage']['producer']['name'], keg['beverage']['name'], keg['beverage']['id'])\n",
      "  \n",
      "    volume = keg['full_volume_ml']\n",
      "    date_format = '%Y-%m-%dT%H:%M:%S+00:00'\n",
      "    start_time = datetime.strptime(keg['start_time'],date_format)\n",
      "    end_time = datetime.strptime(keg['end_time'],date_format)\n",
      "    delta = end_time - start_time\n",
      "    seconds = delta.total_seconds()\n",
      " \n",
      "    if seconds > 0: #sainity check\n",
      "        rate_ml_s = int(volume) / seconds\n",
      "        rate_l_day = rate_ml_s * 86.4\n",
      "        rate_l_week = rate_l_day * 7\n",
      " \n",
      "        if 1 < rate_l_week < 1000: #sanity check\n",
      "            \n",
      "            if name not in stats:\n",
      "                stats[name] = {}\n",
      "                stats[name]['rate'] = []\n",
      "                stats[name]['date'] = start_time\n",
      "\n",
      "            stats[name]['rate'].append(rate_l_week)\n",
      "            if stats[name]['date'] < start_time:\n",
      "                stats[name]['date'] = start_time\n",
      "\n",
      "#Average the rates\n",
      "for name, stat in stats.iteritems():\n",
      "    stat['rate'] = numpy.mean(stat['rate'])\n",
      "    #print name, numpy.mean(stat['rate'])\n",
      "\n",
      "f = open('suggestions', 'w')\n",
      "s = \"Subject: Beer Suggestions for {}\\n\".format(datetime.today() )\n",
      "f.write(s)\n",
      "\n",
      "#Display in order\n",
      "for w in sorted(stats, key=lambda rate:stats[rate]['rate'], reverse=True):\n",
      "    s = \"{:3.0f} liters/wk {:3d} days ago, {}\\n\".format(\n",
      "        stats[w]['rate'], (datetime.today() -stats[w]['date']).days, w)\n",
      "    # f.write(s)\n",
      "    print s,\n",
      "    \n",
      "f.close()"
     ],
     "language": "python",
     "metadata": {},
     "outputs": [
      {
       "output_type": "stream",
       "stream": "stdout",
       "text": [
        "Overwriting OrderingCalcs.py\n"
       ]
      }
     ],
     "prompt_number": 32
    },
    {
     "cell_type": "code",
     "collapsed": false,
     "input": [
      "now = datetime.today()\n",
      "print now"
     ],
     "language": "python",
     "metadata": {},
     "outputs": [
      {
       "output_type": "stream",
       "stream": "stdout",
       "text": [
        "2016-03-02 15:02:34.977769\n"
       ]
      }
     ],
     "prompt_number": 20
    },
    {
     "cell_type": "code",
     "collapsed": false,
     "input": [],
     "language": "python",
     "metadata": {},
     "outputs": []
    }
   ],
   "metadata": {}
  }
 ]
}